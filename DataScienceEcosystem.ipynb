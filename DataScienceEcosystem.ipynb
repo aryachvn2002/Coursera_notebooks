{
 "cells": [
  {
   "cell_type": "markdown",
   "id": "b9b2f2cc-cedc-44f1-aeb0-cd85f5d797e9",
   "metadata": {
    "tags": []
   },
   "source": [
    "# Data Science Tools and Ecosystem"
   ]
  },
  {
   "cell_type": "markdown",
   "id": "1833f7d9-40ca-458e-a7ea-12aef3445473",
   "metadata": {},
   "source": [
    "In this notebook, Data Science Tools and Ecosystem are summarized."
   ]
  },
  {
   "cell_type": "markdown",
   "id": "70ae913b-4bb7-4b6d-8a33-302b0f73d1a3",
   "metadata": {},
   "source": [
    "Some of the popular languages that Data Scientists use are:\n",
    "1. Python\n",
    "2. R\n",
    "3. Java"
   ]
  },
  {
   "cell_type": "markdown",
   "id": "8665becc-7886-4fe2-aa1d-c5438c28f7b7",
   "metadata": {
    "tags": []
   },
   "source": [
    "Some of the commonly used libraries used by Data Scientists include:\n",
    "1. Pandas\n",
    "2. Sci-kit Learn\n",
    "3. Seaborn"
   ]
  },
  {
   "cell_type": "markdown",
   "id": "13805fbd-d258-4f42-ac92-86a1bb6d8f2e",
   "metadata": {},
   "source": [
    "| Data Science Tools |\n",
    "|:------------------:|\n",
    "| Jupyter Notebooks  |\n",
    "| Apache Spark       |\n",
    "| Tableu             |"
   ]
  },
  {
   "cell_type": "markdown",
   "id": "fe273ff3-00b0-4e15-8776-3d4e0063c607",
   "metadata": {},
   "source": [
    "### Below are a few examples of evaluating arithmetic expressions in Python."
   ]
  },
  {
   "cell_type": "code",
   "execution_count": 3,
   "id": "2915bac3-a379-4b8d-9f31-7928e07a5700",
   "metadata": {
    "tags": []
   },
   "outputs": [
    {
     "data": {
      "text/plain": [
       "17"
      ]
     },
     "execution_count": 3,
     "metadata": {},
     "output_type": "execute_result"
    }
   ],
   "source": [
    "# This a simple arithmetic expression to mutiply then add integers.\n",
    "(3 * 4) + 5"
   ]
  },
  {
   "cell_type": "code",
   "execution_count": 5,
   "id": "b6e21c6a-6c96-449d-946c-67b5a4919d06",
   "metadata": {
    "tags": []
   },
   "outputs": [
    {
     "data": {
      "text/plain": [
       "3.3333333333333335"
      ]
     },
     "execution_count": 5,
     "metadata": {},
     "output_type": "execute_result"
    }
   ],
   "source": [
    "# his will convert 200 minutes to hours by diving by 60.\n",
    "200 / 60"
   ]
  },
  {
   "cell_type": "markdown",
   "id": "7218b4f7-916e-44ee-8eb8-22d688826b00",
   "metadata": {},
   "source": [
    "**Objectives**\n",
    "- Introduction to Jupyter Notebooks.\n",
    "- Languages used in Data Science.\n",
    "- Most common libraries used by Data Scientists.\n",
    "- Tools for Data Science.\n",
    "- Basic Arithmetic Expressions in Notebook"
   ]
  },
  {
   "cell_type": "markdown",
   "id": "8ae87232-65d8-4c87-8d9e-16494c0bf316",
   "metadata": {},
   "source": [
    "## Author\n",
    "Arya Chavan"
   ]
  },
  {
   "cell_type": "code",
   "execution_count": null,
   "id": "c96e26a6-35e9-4885-b532-8a8cd44fb20a",
   "metadata": {},
   "outputs": [],
   "source": []
  }
 ],
 "metadata": {
  "kernelspec": {
   "display_name": "Python",
   "language": "python",
   "name": "conda-env-python-py"
  },
  "language_info": {
   "codemirror_mode": {
    "name": "ipython",
    "version": 3
   },
   "file_extension": ".py",
   "mimetype": "text/x-python",
   "name": "python",
   "nbconvert_exporter": "python",
   "pygments_lexer": "ipython3",
   "version": "3.7.12"
  }
 },
 "nbformat": 4,
 "nbformat_minor": 5
}
